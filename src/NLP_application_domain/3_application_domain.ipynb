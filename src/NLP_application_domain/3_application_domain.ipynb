{
 "cells": [
  {
   "cell_type": "code",
   "execution_count": 1,
   "id": "39cadc5c",
   "metadata": {},
   "outputs": [],
   "source": [
    "import pandas as pd\n",
    "from wordcloud import WordCloud\n",
    "import matplotlib.pyplot as plt\n",
    "import nltk\n",
    "import seaborn as sns\n",
    "import scipy as sp\n",
    "import numpy as np\n",
    "from sklearn.datasets import load_files\n",
    "from sklearn.model_selection import train_test_split\n",
    "from sklearn.feature_extraction.text import  TfidfVectorizer\n",
    "from sklearn.preprocessing import MultiLabelBinarizer\n",
    "from sklearn.naive_bayes import MultinomialNB\n",
    "from sklearn.multiclass import OneVsRestClassifier\n",
    "from sklearn.linear_model import LogisticRegression, RidgeClassifier\n",
    "from sklearn.svm import LinearSVC\n",
    "from sklearn.pipeline import Pipeline\n",
    "from sklearn.feature_extraction.text import CountVectorizer\n",
    "import re\n",
    "from nltk.corpus import stopwords\n",
    "\n",
    "from ast import literal_eval\n",
    "\n",
    "requirements = pd.read_csv('../../crowdre_question/requirements.csv')\n",
    "\n",
    "req = pd.DataFrame(requirements, columns = ['feature','benefit','application_domain', 'application_domain_other'])\n",
    "req['sentence']= req['feature'] + ', ' + req['benefit']\n",
    "req.drop(['feature','benefit'],axis=1, inplace=True)"
   ]
  },
  {
   "cell_type": "code",
   "execution_count": 2,
   "id": "896245f4",
   "metadata": {},
   "outputs": [
    {
     "data": {
      "text/html": [
       "<div>\n",
       "<style scoped>\n",
       "    .dataframe tbody tr th:only-of-type {\n",
       "        vertical-align: middle;\n",
       "    }\n",
       "\n",
       "    .dataframe tbody tr th {\n",
       "        vertical-align: top;\n",
       "    }\n",
       "\n",
       "    .dataframe thead th {\n",
       "        text-align: right;\n",
       "    }\n",
       "</style>\n",
       "<table border=\"1\" class=\"dataframe\">\n",
       "  <thead>\n",
       "    <tr style=\"text-align: right;\">\n",
       "      <th></th>\n",
       "      <th>application_domain</th>\n",
       "      <th>application_domain_other</th>\n",
       "      <th>sentence</th>\n",
       "    </tr>\n",
       "  </thead>\n",
       "  <tbody>\n",
       "    <tr>\n",
       "      <th>0</th>\n",
       "      <td>Health</td>\n",
       "      <td>NaN</td>\n",
       "      <td>my smart home to be able to order delivery foo...</td>\n",
       "    </tr>\n",
       "    <tr>\n",
       "      <th>1</th>\n",
       "      <td>Energy</td>\n",
       "      <td>NaN</td>\n",
       "      <td>my smart home to turn on certain lights at dus...</td>\n",
       "    </tr>\n",
       "    <tr>\n",
       "      <th>2</th>\n",
       "      <td>Entertainment</td>\n",
       "      <td>NaN</td>\n",
       "      <td>my smart home to sync with my biorhythm app an...</td>\n",
       "    </tr>\n",
       "    <tr>\n",
       "      <th>3</th>\n",
       "      <td>Entertainment</td>\n",
       "      <td>NaN</td>\n",
       "      <td>my smart home to to ring when my favorite show...</td>\n",
       "    </tr>\n",
       "    <tr>\n",
       "      <th>4</th>\n",
       "      <td>Energy</td>\n",
       "      <td>NaN</td>\n",
       "      <td>Class Reminders, I won't be late for class</td>\n",
       "    </tr>\n",
       "  </tbody>\n",
       "</table>\n",
       "</div>"
      ],
      "text/plain": [
       "  application_domain application_domain_other  \\\n",
       "0             Health                      NaN   \n",
       "1             Energy                      NaN   \n",
       "2      Entertainment                      NaN   \n",
       "3      Entertainment                      NaN   \n",
       "4             Energy                      NaN   \n",
       "\n",
       "                                            sentence  \n",
       "0  my smart home to be able to order delivery foo...  \n",
       "1  my smart home to turn on certain lights at dus...  \n",
       "2  my smart home to sync with my biorhythm app an...  \n",
       "3  my smart home to to ring when my favorite show...  \n",
       "4         Class Reminders, I won't be late for class  "
      ]
     },
     "execution_count": 2,
     "metadata": {},
     "output_type": "execute_result"
    }
   ],
   "source": [
    "req.head()"
   ]
  },
  {
   "cell_type": "code",
   "execution_count": 3,
   "id": "d9fd5cfd",
   "metadata": {},
   "outputs": [
    {
     "name": "stdout",
     "output_type": "stream",
     "text": [
      "<class 'pandas.core.frame.DataFrame'>\n",
      "RangeIndex: 2966 entries, 0 to 2965\n",
      "Data columns (total 3 columns):\n",
      " #   Column                    Non-Null Count  Dtype \n",
      "---  ------                    --------------  ----- \n",
      " 0   application_domain        2966 non-null   object\n",
      " 1   application_domain_other  543 non-null    object\n",
      " 2   sentence                  2966 non-null   object\n",
      "dtypes: object(3)\n",
      "memory usage: 69.6+ KB\n"
     ]
    }
   ],
   "source": [
    "req.info()"
   ]
  },
  {
   "cell_type": "code",
   "execution_count": 4,
   "id": "be2fdae8",
   "metadata": {},
   "outputs": [
    {
     "data": {
      "text/plain": [
       "array(['Health', 'Energy', 'Entertainment', 'Safety', 'Other'],\n",
       "      dtype=object)"
      ]
     },
     "execution_count": 4,
     "metadata": {},
     "output_type": "execute_result"
    }
   ],
   "source": [
    "req.application_domain.unique()"
   ]
  },
  {
   "cell_type": "code",
   "execution_count": 5,
   "id": "b99d74a8",
   "metadata": {},
   "outputs": [
    {
     "data": {
      "text/plain": [
       "application_domain_other\n",
       "convenience                     66\n",
       "comfort                         24\n",
       "safety                          22\n",
       "security                        22\n",
       "pets                            21\n",
       "food                            18\n",
       "health                          16\n",
       "energy                          14\n",
       "pet care                        13\n",
       "time saving                     12\n",
       "cleaning                        12\n",
       "cooking                         12\n",
       "kitchen                          9\n",
       "cleanliness                      8\n",
       "productivity                     6\n",
       "water                            6\n",
       "environment                      5\n",
       "maintenance                      5\n",
       "parenting                        4\n",
       "work                             4\n",
       "education                        4\n",
       "energy                           4\n",
       "aesthetics                       4\n",
       "hygiene                          4\n",
       "groceries                        4\n",
       "appliances                       4\n",
       "water conservation               3\n",
       "laze                             3\n",
       "home                             3\n",
       "quality of life                  3\n",
       "pest control                     3\n",
       "personal                         3\n",
       "entertainment                    3\n",
       "laundry                          3\n",
       "time saving.                     2\n",
       "business                         2\n",
       "gardening                        2\n",
       "ease of use.                     2\n",
       "housekeeping                     2\n",
       "lifestyle                        2\n",
       "communication                    2\n",
       "ease                             2\n",
       "time management                  2\n",
       "health                           2\n",
       "safety                           2\n",
       "reminder                         2\n",
       "fashion                          2\n",
       "convenience                      2\n",
       "organization                     2\n",
       "pet                              2\n",
       "automation                       2\n",
       "household chores                 2\n",
       "easy work                        2\n",
       "pet health                       2\n",
       "animals                          2\n",
       "precaution                       2\n",
       "assistant                        2\n",
       "water use                        2\n",
       "plants                           2\n",
       "postal service                   1\n",
       "time                             1\n",
       "meals                            1\n",
       "neighborhood community           1\n",
       "hobbies                          1\n",
       "neatness                         1\n",
       "computers                        1\n",
       "conservation                     1\n",
       "relaxation                       1\n",
       "surveillance                     1\n",
       "convenience, food                1\n",
       "convenience, maintenance         1\n",
       "efficiency                       1\n",
       "grocery                          1\n",
       "electricity                      1\n",
       "insulation                       1\n",
       "comfort, convenience             1\n",
       "knowledge                        1\n",
       "garden                           1\n",
       "garden care.                     1\n",
       "pet care.                        1\n",
       "cleanlyness                      1\n",
       "home delivery                    1\n",
       "media                            1\n",
       "temperature                      1\n",
       "childcare                        1\n",
       "gardenin                         1\n",
       "domestic                         1\n",
       "domestic,                        1\n",
       "dining                           1\n",
       "sounds                           1\n",
       "studying                         1\n",
       "dialysis                         1\n",
       "cars                             1\n",
       "office                           1\n",
       "vanity                           1\n",
       "safety, discipline               1\n",
       "safety, health                   1\n",
       "hygiene, grooming                1\n",
       "internet                         1\n",
       "smart card                       1\n",
       "care                             1\n",
       "financial                        1\n",
       "outdoors                         1\n",
       "communications                   1\n",
       "voice application                1\n",
       "food and drink                   1\n",
       "helpful                          1\n",
       "appliance maintenance            1\n",
       "caution                          1\n",
       "privacy invasion                 1\n",
       "disabilities                     1\n",
       "efficiancy                       1\n",
       "lights                           1\n",
       "health, safety                   1\n",
       "service                          1\n",
       "fitness                          1\n",
       "fire                             1\n",
       "laziness                         1\n",
       "transportation                   1\n",
       "hair                             1\n",
       "locks                            1\n",
       "job                              1\n",
       "tech                             1\n",
       "cottage industry                 1\n",
       "calendars                        1\n",
       "convienence                      1\n",
       "applicences                      1\n",
       "outside                          1\n",
       "good result                      1\n",
       "packages                         1\n",
       "assistance                       1\n",
       "theft                            1\n",
       "thermostat                       1\n",
       "pollution check                  1\n",
       "home safety                      1\n",
       "other                            1\n",
       "recycling and environment        1\n",
       "pool                             1\n",
       "feeding                          1\n",
       "house plants                     1\n",
       "garage                           1\n",
       "weather-related                  1\n",
       "mail                             1\n",
       "home improvement                 1\n",
       "money saving ideas               1\n",
       "clothing                         1\n",
       "household appliance              1\n",
       "environmental                    1\n",
       "home maintenace                  1\n",
       "covenience                       1\n",
       "control                          1\n",
       "exterior care                    1\n",
       "kitchen                          1\n",
       "lawn and garden                  1\n",
       "ambiance                         1\n",
       "information                      1\n",
       "kids activities                  1\n",
       "car maintenance                  1\n",
       "savings                          1\n",
       "fun                              1\n",
       "budget                           1\n",
       "outdoor usage                    1\n",
       "roommates                        1\n",
       "home maintenance                 1\n",
       "breadmaker                       1\n",
       "help                             1\n",
       "general                          1\n",
       "entertainment                    1\n",
       "smart curtains                   1\n",
       "useful                           1\n",
       "home & garden                    1\n",
       "self clean                       1\n",
       "efficiencies                     1\n",
       "water conserving                 1\n",
       "landscaping                      1\n",
       "sofestication                    1\n",
       "mental health                    1\n",
       "other                            1\n",
       "home temperature                 1\n",
       "privacy                          1\n",
       "mobile                           1\n",
       "family requirement               1\n",
       "technical                        1\n",
       "language                         1\n",
       "nutrition                        1\n",
       "wake up alarm                    1\n",
       "housework                        1\n",
       "backup power                     1\n",
       "gaming                           1\n",
       "safetey                          1\n",
       "winter                           1\n",
       "home cleanliness                 1\n",
       "maintenance                      1\n",
       "hygiene                          1\n",
       "pet                              1\n",
       "user friendly, interactivity     1\n",
       "driving/garage                   1\n",
       "music, wifi                      1\n",
       "cameras                          1\n",
       "power solar                      1\n",
       "control smart house              1\n",
       "children's mentality             1\n",
       "safe                             1\n",
       "toilet warmers                   1\n",
       "chores                           1\n",
       "Name: count, dtype: int64"
      ]
     },
     "execution_count": 5,
     "metadata": {},
     "output_type": "execute_result"
    }
   ],
   "source": [
    "for other, index in zip(req['application_domain_other'], range(len(req['application_domain_other']))):\n",
    "    if type(other)!=float:\n",
    "        req['application_domain_other'][index] = other.lower()\n",
    "    \n",
    "pd.set_option('display.max_rows', None)\n",
    "req['application_domain_other'].value_counts()"
   ]
  },
  {
   "cell_type": "code",
   "execution_count": 6,
   "id": "164bd994",
   "metadata": {},
   "outputs": [
    {
     "data": {
      "text/html": [
       "<div>\n",
       "<style scoped>\n",
       "    .dataframe tbody tr th:only-of-type {\n",
       "        vertical-align: middle;\n",
       "    }\n",
       "\n",
       "    .dataframe tbody tr th {\n",
       "        vertical-align: top;\n",
       "    }\n",
       "\n",
       "    .dataframe thead th {\n",
       "        text-align: right;\n",
       "    }\n",
       "</style>\n",
       "<table border=\"1\" class=\"dataframe\">\n",
       "  <thead>\n",
       "    <tr style=\"text-align: right;\">\n",
       "      <th></th>\n",
       "      <th>application_domain</th>\n",
       "      <th>sentence</th>\n",
       "    </tr>\n",
       "  </thead>\n",
       "  <tbody>\n",
       "    <tr>\n",
       "      <th>0</th>\n",
       "      <td>health</td>\n",
       "      <td>my smart home to be able to order delivery foo...</td>\n",
       "    </tr>\n",
       "    <tr>\n",
       "      <th>1</th>\n",
       "      <td>energy</td>\n",
       "      <td>my smart home to turn on certain lights at dus...</td>\n",
       "    </tr>\n",
       "    <tr>\n",
       "      <th>2</th>\n",
       "      <td>entertainment</td>\n",
       "      <td>my smart home to sync with my biorhythm app an...</td>\n",
       "    </tr>\n",
       "    <tr>\n",
       "      <th>3</th>\n",
       "      <td>entertainment</td>\n",
       "      <td>my smart home to to ring when my favorite show...</td>\n",
       "    </tr>\n",
       "    <tr>\n",
       "      <th>4</th>\n",
       "      <td>energy</td>\n",
       "      <td>Class Reminders, I won't be late for class</td>\n",
       "    </tr>\n",
       "  </tbody>\n",
       "</table>\n",
       "</div>"
      ],
      "text/plain": [
       "  application_domain                                           sentence\n",
       "0             health  my smart home to be able to order delivery foo...\n",
       "1             energy  my smart home to turn on certain lights at dus...\n",
       "2      entertainment  my smart home to sync with my biorhythm app an...\n",
       "3      entertainment  my smart home to to ring when my favorite show...\n",
       "4             energy         Class Reminders, I won't be late for class"
      ]
     },
     "execution_count": 6,
     "metadata": {},
     "output_type": "execute_result"
    }
   ],
   "source": [
    "y = req['application_domain']\n",
    "keep_list = ['health', 'energy', 'entertainment', 'safety']\n",
    "\n",
    "for domain, index in zip(req['application_domain'], range(len(y))):\n",
    "    \n",
    "    if domain != 'Other':\n",
    "        new_domain = domain.lower()\n",
    "        req['application_domain'][index] = new_domain\n",
    "    elif domain == 'Other':\n",
    "        if req['application_domain_other'][index] in keep_list:\n",
    "            req['application_domain'][index] = req['application_domain_other'][index]\n",
    "        else:\n",
    "            req.drop(index, inplace= True)\n",
    "\n",
    "req.reset_index(drop=True, inplace=True)\n",
    "req.drop(['application_domain_other'],axis=1, inplace=True)\n",
    "req.head()"
   ]
  },
  {
   "cell_type": "code",
   "execution_count": 7,
   "id": "7d9268c5",
   "metadata": {},
   "outputs": [
    {
     "data": {
      "text/plain": [
       "array(['health', 'energy', 'entertainment', 'safety'], dtype=object)"
      ]
     },
     "execution_count": 7,
     "metadata": {},
     "output_type": "execute_result"
    }
   ],
   "source": [
    "req.application_domain.unique()"
   ]
  },
  {
   "cell_type": "code",
   "execution_count": 8,
   "id": "1e4ffdb5",
   "metadata": {},
   "outputs": [
    {
     "name": "stdout",
     "output_type": "stream",
     "text": [
      "1808\n",
      "776\n"
     ]
    },
    {
     "data": {
      "text/html": [
       "<div>\n",
       "<style scoped>\n",
       "    .dataframe tbody tr th:only-of-type {\n",
       "        vertical-align: middle;\n",
       "    }\n",
       "\n",
       "    .dataframe tbody tr th {\n",
       "        vertical-align: top;\n",
       "    }\n",
       "\n",
       "    .dataframe thead th {\n",
       "        text-align: right;\n",
       "    }\n",
       "</style>\n",
       "<table border=\"1\" class=\"dataframe\">\n",
       "  <thead>\n",
       "    <tr style=\"text-align: right;\">\n",
       "      <th></th>\n",
       "      <th>application_domain</th>\n",
       "      <th>sentence</th>\n",
       "    </tr>\n",
       "  </thead>\n",
       "  <tbody>\n",
       "    <tr>\n",
       "      <th>2576</th>\n",
       "      <td>health</td>\n",
       "      <td>my fridge to detect when food spoils, I don't ...</td>\n",
       "    </tr>\n",
       "    <tr>\n",
       "      <th>443</th>\n",
       "      <td>safety</td>\n",
       "      <td>smart floors and furniture that can tell me if...</td>\n",
       "    </tr>\n",
       "    <tr>\n",
       "      <th>1505</th>\n",
       "      <td>entertainment</td>\n",
       "      <td>smart home that integrates with every tv in ea...</td>\n",
       "    </tr>\n",
       "    <tr>\n",
       "      <th>367</th>\n",
       "      <td>health</td>\n",
       "      <td>my treadmill to alert me when I haven't used i...</td>\n",
       "    </tr>\n",
       "    <tr>\n",
       "      <th>2580</th>\n",
       "      <td>safety</td>\n",
       "      <td>the house to notify me when my children are ho...</td>\n",
       "    </tr>\n",
       "    <tr>\n",
       "      <th>1569</th>\n",
       "      <td>energy</td>\n",
       "      <td>my dryer to sound when the clothes are finishe...</td>\n",
       "    </tr>\n",
       "    <tr>\n",
       "      <th>984</th>\n",
       "      <td>energy</td>\n",
       "      <td>solar system, it gives more money savings</td>\n",
       "    </tr>\n",
       "    <tr>\n",
       "      <th>2529</th>\n",
       "      <td>entertainment</td>\n",
       "      <td>a device that can greet me and hold conversati...</td>\n",
       "    </tr>\n",
       "    <tr>\n",
       "      <th>2567</th>\n",
       "      <td>health</td>\n",
       "      <td>to receive a notification from smartphone, I k...</td>\n",
       "    </tr>\n",
       "    <tr>\n",
       "      <th>2224</th>\n",
       "      <td>safety</td>\n",
       "      <td>a monitor to notify EMS if I don't move for mo...</td>\n",
       "    </tr>\n",
       "  </tbody>\n",
       "</table>\n",
       "</div>"
      ],
      "text/plain": [
       "     application_domain                                           sentence\n",
       "2576             health  my fridge to detect when food spoils, I don't ...\n",
       "443              safety  smart floors and furniture that can tell me if...\n",
       "1505      entertainment  smart home that integrates with every tv in ea...\n",
       "367              health  my treadmill to alert me when I haven't used i...\n",
       "2580             safety  the house to notify me when my children are ho...\n",
       "1569             energy  my dryer to sound when the clothes are finishe...\n",
       "984              energy          solar system, it gives more money savings\n",
       "2529      entertainment  a device that can greet me and hold conversati...\n",
       "2567             health  to receive a notification from smartphone, I k...\n",
       "2224             safety  a monitor to notify EMS if I don't move for mo..."
      ]
     },
     "execution_count": 8,
     "metadata": {},
     "output_type": "execute_result"
    }
   ],
   "source": [
    "train, test = train_test_split(req, test_size=0.3, random_state=10)\n",
    "print(len(train))\n",
    "print(len(test))\n",
    "\n",
    "train.sample(10)"
   ]
  },
  {
   "cell_type": "code",
   "execution_count": 9,
   "id": "61a0e655",
   "metadata": {},
   "outputs": [],
   "source": [
    "REPLACE_BY_SPACE_RE = re.compile('[/(){}\\[\\]\\|@,;]') \n",
    "BAD_SYMBOLS_RE = re.compile('[^0-9a-z #+_]')\n",
    "STOPWORDS = set(stopwords.words('english'))\n",
    "\n",
    "def text_prepare(text):\n",
    "    text = text.lower() \n",
    "    text = REPLACE_BY_SPACE_RE.sub(' ',text) \n",
    "    text = BAD_SYMBOLS_RE.sub('',text)\n",
    "    join_list = []\n",
    "    for w in text.split():\n",
    "        if w not in STOPWORDS:\n",
    "            '''# do lemmatization\n",
    "            lemmatizer = WordNetLemmatizer()\n",
    "            lemma_w = lemmatizer.lemmatize(w, 'n')'''\n",
    "\n",
    "            # special case\n",
    "            if w == 'television':\n",
    "                w = 'tv'\n",
    "\n",
    "            '''# do stemming here\n",
    "            stemmer = nltk.stem.SnowballStemmer('english')\n",
    "            stem_w = stemmer.stem(lemma_w)\n",
    "            \n",
    "            join_list.append(stem_w)'''\n",
    "            join_list.append(w)\n",
    "            \n",
    "            \n",
    "            \n",
    "    text = ' '.join(join_list)\n",
    "    #text = ' '.join([w for w in text.split() if w not in STOPWORDS])\n",
    "    return text"
   ]
  },
  {
   "cell_type": "code",
   "execution_count": 10,
   "id": "763d07a9",
   "metadata": {},
   "outputs": [
    {
     "data": {
      "text/plain": [
       "['device tells pet gets room something theyre meant ie trash get soomer',\n",
       " 'pet bed automatically warm cool depending temperature pet pet always comfort',\n",
       " 'music play kitchen listen music cooking cleanin',\n",
       " 'know much humidity house turn water starts get dry',\n",
       " 'oven function im kitchen kids wont hurt',\n",
       " 'smart solar panels adjust sunlight collected efficiently',\n",
       " 'optimized lighting system people think home',\n",
       " 'home filled entertainment host events',\n",
       " 'refrigerator remind went low certain item stop get way home save trips store',\n",
       " 'notify shortage kitchen product buy time']"
      ]
     },
     "execution_count": 10,
     "metadata": {},
     "output_type": "execute_result"
    }
   ],
   "source": [
    "X_train, y_train = train.sentence, train.application_domain\n",
    "X_test, y_test = test.sentence, test.application_domain\n",
    " \n",
    "#data clean\n",
    "X_train = [text_prepare(x) for x in X_train]\n",
    "X_test = [text_prepare(x) for x in X_test]\n",
    "X_train[:10]"
   ]
  },
  {
   "cell_type": "code",
   "execution_count": null,
   "id": "122b6095",
   "metadata": {},
   "outputs": [],
   "source": []
  },
  {
   "cell_type": "code",
   "execution_count": 11,
   "id": "a3b80738",
   "metadata": {},
   "outputs": [
    {
     "name": "stdout",
     "output_type": "stream",
     "text": [
      "(1808, 926)\n",
      "  (0, 207)\t1\n",
      "  (0, 803)\t1\n",
      "  (0, 602)\t1\n",
      "  (0, 336)\t1\n",
      "  (0, 683)\t1\n",
      "  (0, 759)\t1\n",
      "  (0, 813)\t1\n",
      "  (0, 334)\t1\n",
      "  (1, 602)\t3\n",
      "  (1, 90)\t1\n",
      "  (1, 71)\t1\n",
      "  (1, 881)\t1\n",
      "  (1, 181)\t1\n",
      "  (1, 198)\t1\n",
      "  (1, 805)\t1\n",
      "  (1, 39)\t1\n",
      "  (2, 545)\t2\n",
      "  (2, 613)\t1\n",
      "  (2, 434)\t1\n",
      "  (2, 473)\t1\n",
      "  (2, 180)\t1\n",
      "  (2, 547)\t1\n",
      "  (2, 474)\t1\n",
      "  (3, 334)\t1\n",
      "  (3, 435)\t1\n",
      "  :\t:\n",
      "  (1805, 62)\t1\n",
      "  (1805, 0)\t1\n",
      "  (1805, 426)\t1\n",
      "  (1805, 290)\t1\n",
      "  (1805, 916)\t1\n",
      "  (1805, 63)\t1\n",
      "  (1806, 683)\t1\n",
      "  (1806, 39)\t1\n",
      "  (1806, 466)\t1\n",
      "  (1806, 219)\t1\n",
      "  (1806, 467)\t1\n",
      "  (1806, 733)\t1\n",
      "  (1806, 448)\t1\n",
      "  (1806, 671)\t1\n",
      "  (1806, 70)\t1\n",
      "  (1806, 451)\t1\n",
      "  (1807, 794)\t1\n",
      "  (1807, 697)\t1\n",
      "  (1807, 522)\t1\n",
      "  (1807, 250)\t1\n",
      "  (1807, 700)\t1\n",
      "  (1807, 509)\t1\n",
      "  (1807, 208)\t1\n",
      "  (1807, 689)\t1\n",
      "  (1807, 148)\t1\n"
     ]
    }
   ],
   "source": [
    "cv = CountVectorizer(min_df=5,max_df=0.9,ngram_range=(1,2),token_pattern= '(\\S+)')\n",
    "feature = cv.fit_transform(X_train)\n",
    "print(feature.shape)\n",
    "print(feature)"
   ]
  },
  {
   "cell_type": "code",
   "execution_count": 12,
   "id": "2920aa30",
   "metadata": {},
   "outputs": [],
   "source": [
    "from sklearn.metrics import accuracy_score\n",
    "from sklearn.metrics import f1_score\n",
    "from sklearn.metrics import roc_auc_score \n",
    "from sklearn.metrics import average_precision_score\n",
    "from sklearn.metrics import recall_score\n",
    " \n",
    "def print_evaluation_scores(y_val, predicted):\n",
    "    accuracy=accuracy_score(y_val, predicted)\n",
    "    f1_score_macro=f1_score(y_val, predicted, average='macro')\n",
    "    f1_score_micro=f1_score(y_val, predicted, average='micro')\n",
    "    f1_score_weighted=f1_score(y_val, predicted, average='weighted')\n",
    "    print(\"accuracy:\",accuracy)\n",
    "    print(\"f1_score_macro:\",f1_score_macro)\n",
    "    print(\"f1_score_micro:\",f1_score_micro)\n",
    "    print(\"f1_score_weighted:\",f1_score_weighted)"
   ]
  },
  {
   "cell_type": "code",
   "execution_count": 13,
   "id": "0b7b1651",
   "metadata": {},
   "outputs": [],
   "source": [
    "#print(y_train.values[1])"
   ]
  },
  {
   "cell_type": "code",
   "execution_count": 14,
   "id": "d4af8e94",
   "metadata": {},
   "outputs": [],
   "source": [
    "# from sklearn.preprocessing import OneHotEncoder\n",
    "# classes = ['health', 'safety', 'entertainment', 'energy']\n",
    "# encoder = OneHotEncoder(categories=[classes])\n",
    "\n",
    "# y_train1 = []\n",
    "# y_test1 = []\n",
    "# for i in range(len(y_train.values)):\n",
    "#     y_train1.append(y_train.values[i])\n",
    "    \n",
    "# for i in range(len(y_test)):\n",
    "#     y_test1.append(y_test.values[i])\n",
    "\n",
    "    \n",
    "# y_train1 = np.array(y_train1).reshape(-1,1)\n",
    "# y_test1 = np.array(y_test1).reshape(-1,1)\n",
    "\n",
    "# y_train = encoder.fit_transform(y_train1).toarray()\n",
    "# y_test = encoder.fit_transform(y_test1).toarray()\n",
    "# #y_test = encoder.transform([[l] for l in y_test.values]).toarray()\n",
    "# print(y_train)"
   ]
  },
  {
   "cell_type": "code",
   "execution_count": 15,
   "id": "c4befff6",
   "metadata": {},
   "outputs": [],
   "source": [
    "# encoder.categories_"
   ]
  },
  {
   "cell_type": "code",
   "execution_count": 16,
   "id": "34a710f4",
   "metadata": {},
   "outputs": [
    {
     "name": "stdout",
     "output_type": "stream",
     "text": [
      "accuracy: 0.720360824742268\n",
      "f1_score_macro: 0.7079326723671444\n",
      "f1_score_micro: 0.7203608247422679\n",
      "f1_score_weighted: 0.7181688311960427\n"
     ]
    }
   ],
   "source": [
    "NB_pipeline = Pipeline([\n",
    "                ('cv', CountVectorizer(min_df=5,max_df=0.9,ngram_range=(1,2),token_pattern= '(\\S+)')),\n",
    "                ('clf', OneVsRestClassifier(MultinomialNB(\n",
    "                    fit_prior=True, class_prior=None))),\n",
    "            ])\n",
    " \n",
    "NB_pipeline.fit(X_train,y_train)\n",
    "predicted_NB = NB_pipeline.predict(X_test)\n",
    "print_evaluation_scores(y_test,predicted_NB)"
   ]
  },
  {
   "cell_type": "code",
   "execution_count": 17,
   "id": "953859b2",
   "metadata": {},
   "outputs": [
    {
     "name": "stdout",
     "output_type": "stream",
     "text": [
      "['energy' 'energy' 'energy' 'energy' 'entertainment' 'safety' 'health'\n",
      " 'health' 'safety' 'health' 'health' 'safety' 'safety' 'health' 'safety'\n",
      " 'entertainment' 'energy' 'energy' 'safety' 'safety' 'energy' 'safety'\n",
      " 'safety' 'energy' 'safety' 'energy' 'entertainment' 'energy' 'safety'\n",
      " 'safety' 'safety' 'safety' 'health' 'health' 'safety' 'safety' 'health'\n",
      " 'safety' 'health' 'safety' 'energy' 'safety' 'health' 'safety' 'health'\n",
      " 'safety' 'energy' 'energy' 'safety' 'energy' 'entertainment'\n",
      " 'entertainment' 'safety' 'entertainment' 'health' 'safety' 'health'\n",
      " 'health' 'energy' 'health' 'entertainment' 'health' 'entertainment'\n",
      " 'health' 'safety' 'entertainment' 'health' 'safety' 'health' 'energy'\n",
      " 'safety' 'safety' 'safety' 'safety' 'entertainment' 'safety' 'energy'\n",
      " 'safety' 'health' 'safety' 'health' 'entertainment' 'safety' 'energy'\n",
      " 'safety' 'energy' 'energy' 'energy' 'safety' 'energy' 'energy'\n",
      " 'entertainment' 'entertainment' 'energy' 'entertainment' 'safety'\n",
      " 'energy' 'safety' 'energy' 'safety' 'health' 'safety' 'safety' 'energy'\n",
      " 'health' 'safety' 'energy' 'health' 'energy' 'safety' 'entertainment'\n",
      " 'safety' 'entertainment' 'health' 'safety' 'safety' 'health' 'safety'\n",
      " 'health' 'entertainment' 'entertainment' 'entertainment' 'safety'\n",
      " 'entertainment' 'health' 'entertainment' 'safety' 'safety'\n",
      " 'entertainment' 'entertainment' 'health' 'energy' 'health'\n",
      " 'entertainment' 'energy' 'health' 'safety' 'safety' 'safety' 'health'\n",
      " 'health' 'health' 'entertainment' 'safety' 'health' 'health' 'energy'\n",
      " 'safety' 'health' 'health' 'health' 'health' 'entertainment' 'safety'\n",
      " 'health' 'energy' 'safety' 'safety' 'safety' 'safety' 'energy' 'energy'\n",
      " 'entertainment' 'energy' 'energy' 'safety' 'entertainment'\n",
      " 'entertainment' 'entertainment' 'energy' 'safety' 'safety' 'energy'\n",
      " 'energy' 'energy' 'entertainment' 'energy' 'safety' 'energy'\n",
      " 'entertainment' 'safety' 'energy' 'health' 'safety' 'safety' 'health'\n",
      " 'safety' 'safety' 'safety' 'health' 'energy' 'health' 'safety' 'energy'\n",
      " 'safety' 'safety' 'safety' 'safety' 'safety' 'safety' 'safety'\n",
      " 'entertainment' 'energy' 'entertainment' 'health' 'health' 'safety'\n",
      " 'energy' 'safety' 'energy' 'energy' 'safety' 'health' 'safety' 'safety'\n",
      " 'entertainment' 'safety' 'safety' 'energy' 'safety' 'safety' 'safety'\n",
      " 'entertainment' 'entertainment' 'safety' 'health' 'safety' 'health'\n",
      " 'energy' 'safety' 'safety' 'safety' 'health' 'health' 'energy' 'energy'\n",
      " 'safety' 'entertainment' 'entertainment' 'safety' 'energy' 'safety'\n",
      " 'entertainment' 'energy' 'energy' 'safety' 'safety' 'health' 'energy'\n",
      " 'energy' 'safety' 'health' 'energy' 'safety' 'health' 'energy' 'health'\n",
      " 'health' 'safety' 'safety' 'health' 'safety' 'energy' 'safety' 'safety'\n",
      " 'health' 'health' 'health' 'health' 'entertainment' 'energy' 'energy'\n",
      " 'safety' 'safety' 'health' 'entertainment' 'safety' 'energy' 'safety'\n",
      " 'energy' 'safety' 'safety' 'safety' 'energy' 'energy' 'energy' 'energy'\n",
      " 'safety' 'entertainment' 'energy' 'safety' 'health' 'health' 'safety'\n",
      " 'energy' 'energy' 'energy' 'safety' 'entertainment' 'entertainment'\n",
      " 'safety' 'safety' 'health' 'energy' 'energy' 'energy' 'health' 'energy'\n",
      " 'safety' 'safety' 'health' 'health' 'safety' 'entertainment' 'energy'\n",
      " 'energy' 'entertainment' 'energy' 'health' 'entertainment' 'energy'\n",
      " 'safety' 'entertainment' 'safety' 'energy' 'energy' 'safety' 'energy'\n",
      " 'safety' 'entertainment' 'energy' 'energy' 'energy' 'energy' 'safety'\n",
      " 'entertainment' 'entertainment' 'entertainment' 'entertainment' 'safety'\n",
      " 'safety' 'energy' 'safety' 'safety' 'energy' 'health' 'energy' 'safety'\n",
      " 'safety' 'safety' 'energy' 'energy' 'safety' 'safety' 'safety' 'health'\n",
      " 'health' 'energy' 'safety' 'energy' 'safety' 'entertainment' 'health'\n",
      " 'safety' 'health' 'entertainment' 'entertainment' 'energy' 'energy'\n",
      " 'entertainment' 'safety' 'energy' 'health' 'safety' 'health' 'safety'\n",
      " 'safety' 'energy' 'energy' 'energy' 'safety' 'entertainment' 'health'\n",
      " 'health' 'safety' 'entertainment' 'entertainment' 'safety' 'safety'\n",
      " 'energy' 'entertainment' 'health' 'safety' 'energy' 'safety' 'health'\n",
      " 'energy' 'entertainment' 'health' 'safety' 'health' 'energy' 'energy'\n",
      " 'entertainment' 'entertainment' 'entertainment' 'safety' 'health'\n",
      " 'health' 'safety' 'energy' 'health' 'health' 'safety' 'entertainment'\n",
      " 'safety' 'safety' 'safety' 'entertainment' 'health' 'safety'\n",
      " 'entertainment' 'health' 'health' 'entertainment' 'safety' 'energy'\n",
      " 'safety' 'entertainment' 'health' 'safety' 'energy' 'energy' 'health'\n",
      " 'entertainment' 'entertainment' 'safety' 'safety' 'entertainment'\n",
      " 'energy' 'entertainment' 'energy' 'energy' 'entertainment' 'safety'\n",
      " 'health' 'health' 'health' 'safety' 'health' 'health' 'safety'\n",
      " 'entertainment' 'safety' 'entertainment' 'energy' 'energy' 'energy'\n",
      " 'safety' 'safety' 'safety' 'safety' 'safety' 'energy' 'energy' 'energy'\n",
      " 'entertainment' 'safety' 'entertainment' 'energy' 'entertainment'\n",
      " 'safety' 'safety' 'energy' 'safety' 'safety' 'safety' 'safety' 'health'\n",
      " 'energy' 'health' 'health' 'energy' 'health' 'health' 'energy' 'health'\n",
      " 'safety' 'entertainment' 'safety' 'health' 'energy' 'entertainment'\n",
      " 'safety' 'health' 'energy' 'energy' 'entertainment' 'entertainment'\n",
      " 'safety' 'safety' 'safety' 'health' 'health' 'safety' 'safety'\n",
      " 'entertainment' 'health' 'health' 'entertainment' 'health' 'energy'\n",
      " 'safety' 'entertainment' 'health' 'health' 'entertainment' 'safety'\n",
      " 'health' 'energy' 'health' 'safety' 'health' 'safety' 'safety' 'energy'\n",
      " 'health' 'energy' 'energy' 'energy' 'safety' 'health' 'safety' 'energy'\n",
      " 'safety' 'safety' 'safety' 'safety' 'health' 'safety' 'safety'\n",
      " 'entertainment' 'health' 'safety' 'safety' 'safety' 'energy'\n",
      " 'entertainment' 'safety' 'entertainment' 'energy' 'safety'\n",
      " 'entertainment' 'energy' 'safety' 'safety' 'health' 'energy'\n",
      " 'entertainment' 'health' 'entertainment' 'health' 'entertainment'\n",
      " 'entertainment' 'energy' 'health' 'entertainment' 'health' 'energy'\n",
      " 'energy' 'entertainment' 'health' 'energy' 'safety' 'energy' 'safety'\n",
      " 'health' 'entertainment' 'health' 'energy' 'entertainment' 'safety'\n",
      " 'safety' 'health' 'entertainment' 'health' 'safety' 'energy' 'safety'\n",
      " 'safety' 'safety' 'safety' 'safety' 'safety' 'safety' 'safety' 'health'\n",
      " 'safety' 'health' 'health' 'entertainment' 'energy' 'safety' 'safety'\n",
      " 'health' 'energy' 'safety' 'health' 'safety' 'entertainment' 'safety'\n",
      " 'safety' 'energy' 'entertainment' 'energy' 'safety' 'entertainment'\n",
      " 'safety' 'energy' 'energy' 'entertainment' 'entertainment' 'energy'\n",
      " 'health' 'safety' 'health' 'safety' 'energy' 'safety' 'safety' 'safety'\n",
      " 'energy' 'entertainment' 'safety' 'entertainment' 'energy' 'safety'\n",
      " 'safety' 'safety' 'health' 'energy' 'safety' 'safety' 'energy' 'energy'\n",
      " 'entertainment' 'health' 'entertainment' 'entertainment' 'energy'\n",
      " 'safety' 'health' 'safety' 'energy' 'health' 'energy' 'safety' 'energy'\n",
      " 'health' 'health' 'safety' 'safety' 'safety' 'health' 'entertainment'\n",
      " 'energy' 'health' 'energy' 'health' 'entertainment' 'energy' 'energy'\n",
      " 'entertainment' 'energy' 'health' 'entertainment' 'safety' 'health'\n",
      " 'entertainment' 'health' 'entertainment' 'health' 'energy' 'health'\n",
      " 'health' 'health' 'safety' 'health' 'health' 'energy' 'energy' 'safety'\n",
      " 'safety' 'energy' 'health' 'health' 'entertainment' 'energy' 'safety'\n",
      " 'safety' 'safety' 'safety' 'energy' 'safety' 'safety' 'health' 'safety'\n",
      " 'energy' 'safety' 'safety' 'safety' 'entertainment' 'health' 'safety'\n",
      " 'energy' 'entertainment' 'safety' 'entertainment' 'safety' 'health'\n",
      " 'safety' 'energy' 'energy' 'safety' 'entertainment' 'energy' 'energy'\n",
      " 'energy' 'health' 'safety' 'energy' 'safety' 'entertainment' 'energy'\n",
      " 'energy' 'health' 'energy' 'health' 'safety' 'energy' 'energy'\n",
      " 'entertainment' 'entertainment' 'health' 'safety' 'energy' 'safety'\n",
      " 'safety' 'energy' 'safety' 'energy' 'safety' 'safety' 'safety' 'energy'\n",
      " 'health' 'entertainment' 'health' 'entertainment' 'health' 'safety'\n",
      " 'safety' 'safety' 'health' 'health' 'health' 'safety' 'health' 'safety'\n",
      " 'health' 'safety' 'safety' 'energy' 'safety' 'safety' 'energy']\n"
     ]
    }
   ],
   "source": [
    "print(predicted_NB)"
   ]
  },
  {
   "cell_type": "code",
   "execution_count": 18,
   "id": "76fe9f43",
   "metadata": {},
   "outputs": [
    {
     "data": {
      "image/png": "[encoded data removed]",
      "text/plain": [
       "<Figure size 800x800 with 1 Axes>"
      ]
     },
     "metadata": {},
     "output_type": "display_data"
    }
   ],
   "source": [
    "import numpy as np\n",
    "import matplotlib.pyplot as plt\n",
    "from sklearn.metrics import confusion_matrix\n",
    "\n",
    "# Assuming you have y_test and predicted_NB already defined\n",
    "\n",
    "# Convert y_test and predicted_NB to arrays if they are not already\n",
    "y_true = np.array(y_test)\n",
    "y_pred = np.array(predicted_NB)\n",
    "\n",
    "# Compute the confusion matrix\n",
    "conf_mat = confusion_matrix(y_true, y_pred)\n",
    "\n",
    "# Plot the confusion matrix as a heatmap\n",
    "fig, ax = plt.subplots(figsize=(8, 8))\n",
    "im = ax.imshow(conf_mat, cmap='Blues')\n",
    "\n",
    "# Set labels and ticks\n",
    "classes = ['health', 'safety', 'entertainment', 'energy']\n",
    "ax.set_title('Confusion matrix')\n",
    "ax.set_xticks(np.arange(len(classes)))\n",
    "ax.set_yticks(np.arange(len(classes)))\n",
    "ax.set_xticklabels(classes)\n",
    "ax.set_yticklabels(classes)\n",
    "\n",
    "# Add text annotations\n",
    "for i in range(len(classes)):\n",
    "    for j in range(len(classes)):\n",
    "        ax.text(j, i, conf_mat[i, j], ha='center', va='center', color='black')\n",
    "\n",
    "# Display the plot\n",
    "plt.show()\n"
   ]
  },
  {
   "cell_type": "code",
   "execution_count": 19,
   "id": "3b8352f8",
   "metadata": {
    "scrolled": true
   },
   "outputs": [
    {
     "data": {
      "image/png": "[encoded data removed]",
      "text/plain": [
       "<Figure size 800x800 with 1 Axes>"
      ]
     },
     "metadata": {},
     "output_type": "display_data"
    }
   ],
   "source": [
    "# draw confuson matrix for CV + NB: y_test\n",
    "from sklearn.metrics import confusion_matrix\n",
    "\n",
    "y_true = []\n",
    "y_pred = []\n",
    "\n",
    "if y_test.shape[0] == predicted_NB.shape[0]:\n",
    "    for i in range(y_test.shape[0]):\n",
    "        y_true.append(y_test.values[i])\n",
    "        y_pred.append(predicted_NB[i])\n",
    "\n",
    "y_true = np.array(y_test)\n",
    "y_pred = np.array(predicted_NB)\n",
    "\n",
    "# Compute the confusion matrix\n",
    "conf_mat = confusion_matrix(y_true, y_pred)\n",
    "\n",
    "# Plot the confusion matrix as a heatmap\n",
    "fig, ax = plt.subplots(figsize=(8, 8))\n",
    "ax.imshow(conf_mat, cmap='Blues')\n",
    "ax.set_title('Confusion matrix')\n",
    "ax.set_xticks(np.arange(len(conf_mat)))\n",
    "ax.set_yticks(np.arange(len(conf_mat)))\n",
    "ax.set_xticklabels(['health', 'safety', 'entertainment', 'energy'])\n",
    "ax.set_yticklabels(['health', 'safety', 'entertainment', 'energy'])\n",
    "for i in range(len(conf_mat)):\n",
    "    for j in range(len(conf_mat)):\n",
    "        ax.text(j, i, conf_mat[i, j], ha='center', va='center', color='black')\n",
    "plt.show()"
   ]
  },
  {
   "cell_type": "code",
   "execution_count": 20,
   "id": "4320a405",
   "metadata": {},
   "outputs": [
    {
     "name": "stdout",
     "output_type": "stream",
     "text": [
      "accuracy: 0.6507731958762887\n",
      "f1_score_macro: 0.6372657711616541\n",
      "f1_score_micro: 0.6507731958762887\n",
      "f1_score_weighted: 0.6487063513572668\n"
     ]
    },
    {
     "name": "stderr",
     "output_type": "stream",
     "text": [
      "/Users/davidzhan/anaconda3/lib/python3.11/site-packages/sklearn/svm/_classes.py:32: FutureWarning: The default value of `dual` will change from `True` to `'auto'` in 1.5. Set the value of `dual` explicitly to suppress the warning.\n",
      "  warnings.warn(\n",
      "/Users/davidzhan/anaconda3/lib/python3.11/site-packages/sklearn/svm/_classes.py:32: FutureWarning: The default value of `dual` will change from `True` to `'auto'` in 1.5. Set the value of `dual` explicitly to suppress the warning.\n",
      "  warnings.warn(\n",
      "/Users/davidzhan/anaconda3/lib/python3.11/site-packages/sklearn/svm/_classes.py:32: FutureWarning: The default value of `dual` will change from `True` to `'auto'` in 1.5. Set the value of `dual` explicitly to suppress the warning.\n",
      "  warnings.warn(\n",
      "/Users/davidzhan/anaconda3/lib/python3.11/site-packages/sklearn/svm/_classes.py:32: FutureWarning: The default value of `dual` will change from `True` to `'auto'` in 1.5. Set the value of `dual` explicitly to suppress the warning.\n",
      "  warnings.warn(\n"
     ]
    }
   ],
   "source": [
    "SVC_pipeline = Pipeline([\n",
    "                ('cv', CountVectorizer(min_df=5,max_df=0.9,ngram_range=(1,2),token_pattern= '(\\S+)')),\n",
    "                ('clf', OneVsRestClassifier(LinearSVC(), n_jobs=1)),\n",
    "            ])\n",
    " \n",
    "SVC_pipeline.fit(X_train,y_train)\n",
    "predicted_SVC = SVC_pipeline.predict(X_test)\n",
    "print_evaluation_scores(y_test,predicted_SVC)"
   ]
  },
  {
   "cell_type": "code",
   "execution_count": 21,
   "id": "a8762783",
   "metadata": {},
   "outputs": [
    {
     "name": "stdout",
     "output_type": "stream",
     "text": [
      "accuracy: 0.6958762886597938\n",
      "f1_score_macro: 0.6813872195830823\n",
      "f1_score_micro: 0.6958762886597938\n",
      "f1_score_weighted: 0.6917340407496257\n"
     ]
    }
   ],
   "source": [
    "LogReg_pipeline = Pipeline([\n",
    "                ('cv', CountVectorizer(min_df=5,max_df=0.9,ngram_range=(1,2),token_pattern= '(\\S+)')),\n",
    "                ('clf', OneVsRestClassifier(LogisticRegression(), n_jobs=1)),\n",
    "            ])\n",
    " \n",
    "LogReg_pipeline.fit(X_train,y_train)\n",
    "predicted_Log = LogReg_pipeline.predict(X_test)\n",
    "print_evaluation_scores(y_test,predicted_Log)"
   ]
  },
  {
   "cell_type": "code",
   "execution_count": 22,
   "id": "190d2249",
   "metadata": {},
   "outputs": [
    {
     "name": "stdout",
     "output_type": "stream",
     "text": [
      "accuracy: 0.7061855670103093\n",
      "f1_score_macro: 0.6901521873680229\n",
      "f1_score_micro: 0.7061855670103093\n",
      "f1_score_weighted: 0.7008950605540096\n"
     ]
    }
   ],
   "source": [
    "tfidf_NB_pipeline = Pipeline([\n",
    "                ('tfidf', TfidfVectorizer(min_df=5,max_df=0.9,ngram_range=(1,2),token_pattern= '(\\S+)')),\n",
    "                ('clf', OneVsRestClassifier(MultinomialNB())),\n",
    "            ])\n",
    " \n",
    "tfidf_NB_pipeline.fit(X_train,y_train)\n",
    "tfidf_NB_predicted = tfidf_NB_pipeline.predict(X_test)\n",
    "print_evaluation_scores(y_test,tfidf_NB_predicted)"
   ]
  },
  {
   "cell_type": "code",
   "execution_count": 23,
   "id": "dbe8f0f0",
   "metadata": {},
   "outputs": [
    {
     "name": "stderr",
     "output_type": "stream",
     "text": [
      "/Users/davidzhan/anaconda3/lib/python3.11/site-packages/sklearn/svm/_classes.py:32: FutureWarning: The default value of `dual` will change from `True` to `'auto'` in 1.5. Set the value of `dual` explicitly to suppress the warning.\n",
      "  warnings.warn(\n",
      "/Users/davidzhan/anaconda3/lib/python3.11/site-packages/sklearn/svm/_classes.py:32: FutureWarning: The default value of `dual` will change from `True` to `'auto'` in 1.5. Set the value of `dual` explicitly to suppress the warning.\n",
      "  warnings.warn(\n",
      "/Users/davidzhan/anaconda3/lib/python3.11/site-packages/sklearn/svm/_classes.py:32: FutureWarning: The default value of `dual` will change from `True` to `'auto'` in 1.5. Set the value of `dual` explicitly to suppress the warning.\n",
      "  warnings.warn(\n",
      "/Users/davidzhan/anaconda3/lib/python3.11/site-packages/sklearn/svm/_classes.py:32: FutureWarning: The default value of `dual` will change from `True` to `'auto'` in 1.5. Set the value of `dual` explicitly to suppress the warning.\n",
      "  warnings.warn(\n"
     ]
    },
    {
     "name": "stdout",
     "output_type": "stream",
     "text": [
      "accuracy: 0.6881443298969072\n",
      "f1_score_macro: 0.6738234699807378\n",
      "f1_score_micro: 0.6881443298969072\n",
      "f1_score_weighted: 0.6840116711868212\n"
     ]
    }
   ],
   "source": [
    "tfidf_SVC_pipeline = Pipeline([\n",
    "                ('tfidf', TfidfVectorizer(min_df=5,max_df=0.9,ngram_range=(1,2),token_pattern= '(\\S+)')),\n",
    "                ('clf', OneVsRestClassifier(LinearSVC(), n_jobs=1)),\n",
    "            ])\n",
    "\n",
    "tfidf_SVC_pipeline.fit(X_train,y_train)\n",
    "tfidf_SVC_predicted = tfidf_SVC_pipeline.predict(X_test)\n",
    "\n",
    "print_evaluation_scores(y_test,tfidf_SVC_predicted)"
   ]
  },
  {
   "cell_type": "code",
   "execution_count": 24,
   "id": "a7bf3bf1",
   "metadata": {},
   "outputs": [
    {
     "name": "stdout",
     "output_type": "stream",
     "text": [
      "accuracy: 0.7023195876288659\n",
      "f1_score_macro: 0.6856005186445719\n",
      "f1_score_micro: 0.7023195876288659\n",
      "f1_score_weighted: 0.6959776750713195\n"
     ]
    }
   ],
   "source": [
    "tfidf_LogReg_pipeline = Pipeline([\n",
    "                ('tfidf', TfidfVectorizer(min_df=5,max_df=0.9,ngram_range=(1,2),token_pattern= '(\\S+)')),\n",
    "                ('clf', OneVsRestClassifier(LogisticRegression(), n_jobs=1)),\n",
    "            ])\n",
    " \n",
    "tfidf_LogReg_pipeline.fit(X_train,y_train)\n",
    "tfidf_LogReg_predicted = tfidf_LogReg_pipeline.predict(X_test)\n",
    "print_evaluation_scores(y_test,tfidf_LogReg_predicted)"
   ]
  },
  {
   "cell_type": "code",
   "execution_count": 25,
   "id": "a3fd7254",
   "metadata": {},
   "outputs": [
    {
     "data": {
      "text/html": [
       "<div>\n",
       "<style scoped>\n",
       "    .dataframe tbody tr th:only-of-type {\n",
       "        vertical-align: middle;\n",
       "    }\n",
       "\n",
       "    .dataframe tbody tr th {\n",
       "        vertical-align: top;\n",
       "    }\n",
       "\n",
       "    .dataframe thead th {\n",
       "        text-align: right;\n",
       "    }\n",
       "</style>\n",
       "<table border=\"1\" class=\"dataframe\">\n",
       "  <thead>\n",
       "    <tr style=\"text-align: right;\">\n",
       "      <th></th>\n",
       "      <th>scenarios_id</th>\n",
       "      <th>sentence</th>\n",
       "    </tr>\n",
       "  </thead>\n",
       "  <tbody>\n",
       "    <tr>\n",
       "      <th>0</th>\n",
       "      <td>7</td>\n",
       "      <td>my sensor should detect movement, if i get up ...</td>\n",
       "    </tr>\n",
       "    <tr>\n",
       "      <th>1</th>\n",
       "      <td>8</td>\n",
       "      <td>the house should automatically detect movement...</td>\n",
       "    </tr>\n",
       "    <tr>\n",
       "      <th>2</th>\n",
       "      <td>9</td>\n",
       "      <td>movement should be detected, if there is movem...</td>\n",
       "    </tr>\n",
       "    <tr>\n",
       "      <th>3</th>\n",
       "      <td>10</td>\n",
       "      <td>if a person is reading, the house should chang...</td>\n",
       "    </tr>\n",
       "    <tr>\n",
       "      <th>4</th>\n",
       "      <td>11</td>\n",
       "      <td>There is a storm outside or it is very hot and...</td>\n",
       "    </tr>\n",
       "  </tbody>\n",
       "</table>\n",
       "</div>"
      ],
      "text/plain": [
       "   scenarios_id                                           sentence\n",
       "0             7  my sensor should detect movement, if i get up ...\n",
       "1             8  the house should automatically detect movement...\n",
       "2             9  movement should be detected, if there is movem...\n",
       "3            10  if a person is reading, the house should chang...\n",
       "4            11  There is a storm outside or it is very hot and..."
      ]
     },
     "execution_count": 25,
     "metadata": {},
     "output_type": "execute_result"
    }
   ],
   "source": [
    "# allocate tags for set 1\n",
    "# set 1 data\n",
    "scenarios = pd.read_csv('../../cleaned_dataset/senario.csv')\n",
    "sc = pd.DataFrame(scenarios, columns = ['id','context','stimuli','response'])\n",
    "sc['sentence']= sc['context'] + ', ' + sc['stimuli'] + ', ' +sc['response']\n",
    "sc.drop(['context','stimuli','response'],axis=1, inplace=True)\n",
    "sc.dropna(inplace=True)\n",
    "sc.reset_index(drop=True, inplace=True)\n",
    "sc.columns=['scenarios_id','sentence']\n",
    "cv = sc.copy()\n",
    "tf = sc.copy()\n",
    "sc.head()"
   ]
  },
  {
   "cell_type": "code",
   "execution_count": 26,
   "id": "bc7d501a",
   "metadata": {},
   "outputs": [
    {
     "name": "stdout",
     "output_type": "stream",
     "text": [
      "<class 'str'>\n"
     ]
    },
    {
     "data": {
      "text/plain": [
       "['sensor detect movement get late night lights house go',\n",
       " 'house automatically detect movement person walks dark room lights go enhance convenience safety',\n",
       " 'movement detected movement outside house lights go visibility dark night',\n",
       " 'person reading house change lightning brightness color lights turn bright white person see reading',\n",
       " 'storm outside hot ac blowing cool air house wind fan may blowing curtains system able determine continuous motion small degree therefore register continue shut lights designated time',\n",
       " 'late night shopping trip person gets home late night hands full cant switch lights system instantly turn lights motion detected',\n",
       " 'someone malicious intent scoping house potentially rob person prowling around yard smart homeowner exterior lights recognize normal times guest authorized person key holder turn lights',\n",
       " 'night time couple relaxing glass whine watching movie evening man romantic house guest sitting couch living room light system recognize getting late movie dim lights provide slightly red hue romantic atmosphere',\n",
       " 'dog cat moving around making seem like someone room pet causing movement system able tell animal human',\n",
       " 'lights turn set period time leave room lights turn']"
      ]
     },
     "execution_count": 26,
     "metadata": {},
     "output_type": "execute_result"
    }
   ],
   "source": [
    "# clean set 1 sentence\n",
    "XX_test = sc['sentence']\n",
    "print(type(XX_test[0]))\n",
    "Xx_test = [text_prepare(x) for x in XX_test]\n",
    "Xx_test[:10]"
   ]
  },
  {
   "cell_type": "code",
   "execution_count": 27,
   "id": "772011f5",
   "metadata": {},
   "outputs": [
    {
     "data": {
      "text/plain": [
       "array(['safety', 'safety', 'safety', ..., 'energy', 'entertainment',\n",
       "       'energy'], dtype='<U13')"
      ]
     },
     "execution_count": 27,
     "metadata": {},
     "output_type": "execute_result"
    }
   ],
   "source": [
    "set1_predicted_NB = NB_pipeline.predict(Xx_test)\n",
    "set1_predicted_NB"
   ]
  },
  {
   "cell_type": "code",
   "execution_count": 28,
   "id": "7d73208e",
   "metadata": {
    "scrolled": true
   },
   "outputs": [
    {
     "data": {
      "text/html": [
       "<div>\n",
       "<style scoped>\n",
       "    .dataframe tbody tr th:only-of-type {\n",
       "        vertical-align: middle;\n",
       "    }\n",
       "\n",
       "    .dataframe tbody tr th {\n",
       "        vertical-align: top;\n",
       "    }\n",
       "\n",
       "    .dataframe thead th {\n",
       "        text-align: right;\n",
       "    }\n",
       "</style>\n",
       "<table border=\"1\" class=\"dataframe\">\n",
       "  <thead>\n",
       "    <tr style=\"text-align: right;\">\n",
       "      <th></th>\n",
       "      <th>scenarios_id</th>\n",
       "      <th>sentence</th>\n",
       "      <th>domain</th>\n",
       "    </tr>\n",
       "  </thead>\n",
       "  <tbody>\n",
       "    <tr>\n",
       "      <th>0</th>\n",
       "      <td>7</td>\n",
       "      <td>my sensor should detect movement, if i get up ...</td>\n",
       "      <td>safety</td>\n",
       "    </tr>\n",
       "    <tr>\n",
       "      <th>1</th>\n",
       "      <td>8</td>\n",
       "      <td>the house should automatically detect movement...</td>\n",
       "      <td>safety</td>\n",
       "    </tr>\n",
       "    <tr>\n",
       "      <th>2</th>\n",
       "      <td>9</td>\n",
       "      <td>movement should be detected, if there is movem...</td>\n",
       "      <td>safety</td>\n",
       "    </tr>\n",
       "    <tr>\n",
       "      <th>3</th>\n",
       "      <td>10</td>\n",
       "      <td>if a person is reading, the house should chang...</td>\n",
       "      <td>energy</td>\n",
       "    </tr>\n",
       "    <tr>\n",
       "      <th>4</th>\n",
       "      <td>11</td>\n",
       "      <td>There is a storm outside or it is very hot and...</td>\n",
       "      <td>energy</td>\n",
       "    </tr>\n",
       "  </tbody>\n",
       "</table>\n",
       "</div>"
      ],
      "text/plain": [
       "   scenarios_id                                           sentence  domain\n",
       "0             7  my sensor should detect movement, if i get up ...  safety\n",
       "1             8  the house should automatically detect movement...  safety\n",
       "2             9  movement should be detected, if there is movem...  safety\n",
       "3            10  if a person is reading, the house should chang...  energy\n",
       "4            11  There is a storm outside or it is very hot and...  energy"
      ]
     },
     "execution_count": 28,
     "metadata": {},
     "output_type": "execute_result"
    }
   ],
   "source": [
    "cv['domain'] = set1_predicted_NB\n",
    "cv.head()"
   ]
  },
  {
   "cell_type": "code",
   "execution_count": 29,
   "id": "d6d409f7",
   "metadata": {
    "scrolled": true
   },
   "outputs": [
    {
     "data": {
      "text/html": [
       "<div>\n",
       "<style scoped>\n",
       "    .dataframe tbody tr th:only-of-type {\n",
       "        vertical-align: middle;\n",
       "    }\n",
       "\n",
       "    .dataframe tbody tr th {\n",
       "        vertical-align: top;\n",
       "    }\n",
       "\n",
       "    .dataframe thead th {\n",
       "        text-align: right;\n",
       "    }\n",
       "</style>\n",
       "<table border=\"1\" class=\"dataframe\">\n",
       "  <thead>\n",
       "    <tr style=\"text-align: right;\">\n",
       "      <th></th>\n",
       "      <th>sentence</th>\n",
       "      <th>domain</th>\n",
       "    </tr>\n",
       "    <tr>\n",
       "      <th>scenarios_id</th>\n",
       "      <th></th>\n",
       "      <th></th>\n",
       "    </tr>\n",
       "  </thead>\n",
       "  <tbody>\n",
       "    <tr>\n",
       "      <th>7</th>\n",
       "      <td>my sensor should detect movement, if i get up ...</td>\n",
       "      <td>safety</td>\n",
       "    </tr>\n",
       "    <tr>\n",
       "      <th>8</th>\n",
       "      <td>the house should automatically detect movement...</td>\n",
       "      <td>safety</td>\n",
       "    </tr>\n",
       "    <tr>\n",
       "      <th>9</th>\n",
       "      <td>movement should be detected, if there is movem...</td>\n",
       "      <td>safety</td>\n",
       "    </tr>\n",
       "    <tr>\n",
       "      <th>10</th>\n",
       "      <td>if a person is reading, the house should chang...</td>\n",
       "      <td>energy</td>\n",
       "    </tr>\n",
       "    <tr>\n",
       "      <th>11</th>\n",
       "      <td>There is a storm outside or it is very hot and...</td>\n",
       "      <td>energy</td>\n",
       "    </tr>\n",
       "  </tbody>\n",
       "</table>\n",
       "</div>"
      ],
      "text/plain": [
       "                                                       sentence  domain\n",
       "scenarios_id                                                           \n",
       "7             my sensor should detect movement, if i get up ...  safety\n",
       "8             the house should automatically detect movement...  safety\n",
       "9             movement should be detected, if there is movem...  safety\n",
       "10            if a person is reading, the house should chang...  energy\n",
       "11            There is a storm outside or it is very hot and...  energy"
      ]
     },
     "execution_count": 29,
     "metadata": {},
     "output_type": "execute_result"
    }
   ],
   "source": [
    "cv.set_index('scenarios_id',inplace=True)\n",
    "cv.to_csv('./predicted_domain4all_requirements.csv')\n",
    "cv.head()"
   ]
  },
  {
   "cell_type": "code",
   "execution_count": null,
   "id": "7c74b0af",
   "metadata": {},
   "outputs": [],
   "source": []
  },
  {
   "cell_type": "code",
   "execution_count": null,
   "id": "be789832",
   "metadata": {},
   "outputs": [],
   "source": []
  },
  {
   "cell_type": "code",
   "execution_count": null,
   "id": "7f5d71f3",
   "metadata": {},
   "outputs": [],
   "source": []
  }
 ],
 "metadata": {
  "kernelspec": {
   "display_name": "Python 3 (ipykernel)",
   "language": "python",
   "name": "python3"
  },
  "language_info": {
   "codemirror_mode": {
    "name": "ipython",
    "version": 3
   },
   "file_extension": ".py",
   "mimetype": "text/x-python",
   "name": "python",
   "nbconvert_exporter": "python",
   "pygments_lexer": "ipython3",
   "version": "3.11.5"
  }
 },
 "nbformat": 4,
 "nbformat_minor": 5
}
